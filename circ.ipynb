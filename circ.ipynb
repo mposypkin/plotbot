{
 "cells": [
  {
   "cell_type": "code",
   "execution_count": null,
   "metadata": {},
   "outputs": [],
   "source": [
    "import matplotlib.pyplot as plt\n",
    "\n",
    "def create_circle():\n",
    "\tcircle= plt.Circle((0,0), radius= 5)\n",
    "\treturn circle\n",
    "\n",
    "def show_shape(patch):\n",
    "\tax=plt.gca()\n",
    "\tax.add_patch(patch)\n",
    "\tplt.axis('scaled')\n",
    "\tplt.show()\n",
    "    \n",
    "c= create_circle()\n",
    "show_shape(c)"
   ]
  }
 ],
 "metadata": {
  "kernelspec": {
   "display_name": "Python 3",
   "language": "python",
   "name": "python3"
  },
  "language_info": {
   "codemirror_mode": {
    "name": "ipython",
    "version": 3
   },
   "file_extension": ".py",
   "mimetype": "text/x-python",
   "name": "python",
   "nbconvert_exporter": "python",
   "pygments_lexer": "ipython3",
   "version": "3.6.7"
  }
 },
 "nbformat": 4,
 "nbformat_minor": 2
}
